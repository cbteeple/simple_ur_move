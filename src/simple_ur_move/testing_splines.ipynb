{
 "cells": [
  {
   "cell_type": "code",
   "execution_count": 57,
   "id": "5df081c0",
   "metadata": {},
   "outputs": [],
   "source": [
    "import numpy as np\n",
    "from scipy.interpolate import CubicSpline\n",
    "import matplotlib.pyplot as plt"
   ]
  },
  {
   "cell_type": "code",
   "execution_count": 58,
   "id": "ad007ee2",
   "metadata": {},
   "outputs": [],
   "source": [
    "def interp_spline(x, y, bc_start=None, bc_end=None, axis=0):\n",
    "    x=np.array(x)\n",
    "    y=np.array(y)\n",
    "\n",
    "    print(x)\n",
    "    print(y)\n",
    "    \n",
    "    cs=[]\n",
    "\n",
    "    if bc_start is None:\n",
    "        bc_start = np.zeros((len(x)))\n",
    "    if bc_end is None:\n",
    "        bc_end = np.zeros((len(x)))\n",
    "\n",
    "    for y0, bc_0, bc_1  in zip(y, bc_start, bc_end):\n",
    "        print(x,y0, bc_0, bc_1)\n",
    "        cs.append(CubicSpline(x,y0, bc_type=((1, bc_0), (1, bc_1))))\n",
    "        \n",
    "    def fun(x0):\n",
    "        vals=np.zeros((len(x0),len(cs)))\n",
    "        for idx, cs_curr in enumerate(cs):\n",
    "            vals[:,idx] = cs_curr(x0)\n",
    "        return vals\n",
    "            \n",
    "    return fun"
   ]
  },
  {
   "cell_type": "code",
   "execution_count": 59,
   "id": "d014d7e0",
   "metadata": {},
   "outputs": [
    {
     "name": "stdout",
     "output_type": "stream",
     "text": [
      "[0. 1.]\n",
      "[[20 40]\n",
      " [10 50]\n",
      " [ 5 10]]\n",
      "[0. 1.] [20 40] 0 10\n",
      "[0. 1.] [10 50] 0 5\n",
      "[0. 1.] [ 5 10] 0 20\n"
     ]
    },
    {
     "data": {
      "text/plain": [
       "[<matplotlib.lines.Line2D at 0x7fadcb9308b0>,\n",
       " <matplotlib.lines.Line2D at 0x7fadcb9309d0>,\n",
       " <matplotlib.lines.Line2D at 0x7fadcb930a90>]"
      ]
     },
     "execution_count": 59,
     "metadata": {},
     "output_type": "execute_result"
    },
    {
     "data": {
      "image/png": "[encoded data removed]",
      "text/plain": [
       "<Figure size 432x288 with 1 Axes>"
      ]
     },
     "metadata": {
      "needs_background": "light"
     },
     "output_type": "display_data"
    }
   ],
   "source": [
    "curr_position = [20,10,5]\n",
    "curr_velocity = [0,0,0]\n",
    "next_position = [40,50, 10]\n",
    "next_velocity = [10,5,20]\n",
    "\n",
    "\n",
    "x=np.hstack((0.0, 1.0))\n",
    "y=np.vstack((curr_position, next_position)).T\n",
    "\n",
    "dydx=[0,10]\n",
    "\n",
    "# Get the spline\n",
    "cs=interp_spline(x,y,bc_start=curr_velocity, bc_end=next_velocity)\n",
    "x0=np.linspace(0,1.0,200)\n",
    "data=cs(x0)\n",
    "\n",
    "plt.plot(x0,data)"
   ]
  },
  {
   "cell_type": "code",
   "execution_count": 67,
   "id": "30679d69",
   "metadata": {},
   "outputs": [
    {
     "name": "stdout",
     "output_type": "stream",
     "text": [
      "[0. 1.]\n",
      "[[0. 1.]]\n",
      "[0. 1.] [0. 1.] 0 1.0\n"
     ]
    },
    {
     "data": {
      "text/plain": [
       "[<matplotlib.lines.Line2D at 0x7fadcb94ba90>]"
      ]
     },
     "execution_count": 67,
     "metadata": {},
     "output_type": "execute_result"
    },
    {
     "data": {
      "image/png": "[encoded data removed]",
      "text/plain": [
       "<Figure size 432x288 with 1 Axes>"
      ]
     },
     "metadata": {
      "needs_background": "light"
     },
     "output_type": "display_data"
    }
   ],
   "source": [
    "curr_position = [0]\n",
    "curr_velocity = [0]\n",
    "next_position = [1.0]\n",
    "next_velocity = [1.0]\n",
    "\n",
    "\n",
    "x=np.hstack((0.0, 1.0))\n",
    "y=np.vstack((curr_position, next_position)).T\n",
    "\n",
    "dydx=[0,10]\n",
    "\n",
    "# Get the spline\n",
    "cs=interp_spline(x,y,bc_start=curr_velocity, bc_end=next_velocity)\n",
    "x0=np.linspace(0,1.0,200)\n",
    "data=cs(x0)\n",
    "\n",
    "plt.plot(x0,data)"
   ]
  },
  {
   "cell_type": "code",
   "execution_count": null,
   "id": "21f5a8c5",
   "metadata": {},
   "outputs": [],
   "source": []
  },
  {
   "cell_type": "code",
   "execution_count": null,
   "id": "f3b4bcd0",
   "metadata": {},
   "outputs": [],
   "source": []
  }
 ],
 "metadata": {
  "kernelspec": {
   "display_name": "Python 3",
   "language": "python",
   "name": "python3"
  },
  "language_info": {
   "codemirror_mode": {
    "name": "ipython",
    "version": 3
   },
   "file_extension": ".py",
   "mimetype": "text/x-python",
   "name": "python",
   "nbconvert_exporter": "python",
   "pygments_lexer": "ipython3",
   "version": "3.8.10"
  }
 },
 "nbformat": 4,
 "nbformat_minor": 5
}
